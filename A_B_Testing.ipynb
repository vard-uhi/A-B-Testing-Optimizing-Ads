{
  "nbformat": 4,
  "nbformat_minor": 0,
  "metadata": {
    "colab": {
      "name": "A/B Testing.ipynb",
      "provenance": [],
      "authorship_tag": "ABX9TyNxpSwh9Ynf01C/DCHtqugI",
      "include_colab_link": true
    },
    "kernelspec": {
      "name": "python3",
      "display_name": "Python 3"
    }
  },
  "cells": [
    {
      "cell_type": "markdown",
      "metadata": {
        "id": "view-in-github",
        "colab_type": "text"
      },
      "source": [
        "<a href=\"https://colab.research.google.com/github/vard-uhi/A-B-Testing-Optimizing-Ads/blob/master/A_B_Testing.ipynb\" target=\"_parent\"><img src=\"https://colab.research.google.com/assets/colab-badge.svg\" alt=\"Open In Colab\"/></a>"
      ]
    },
    {
      "cell_type": "markdown",
      "metadata": {
        "id": "6QstjjU_gqBf",
        "colab_type": "text"
      },
      "source": [
        "**Whchi of 3 promotions was effective?**"
      ]
    },
    {
      "cell_type": "code",
      "metadata": {
        "id": "JorTu2NVgBb_",
        "colab_type": "code",
        "colab": {}
      },
      "source": [
        "import pandas as pd \n",
        "import matplotlib.pyplot as plt "
      ],
      "execution_count": 1,
      "outputs": []
    },
    {
      "cell_type": "code",
      "metadata": {
        "id": "rCHkVWY4gC53",
        "colab_type": "code",
        "colab": {
          "resources": {
            "http://localhost:8080/nbextensions/google.colab/files.js": {
              "data": "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",
              "ok": true,
              "headers": [
                [
                  "content-type",
                  "application/javascript"
                ]
              ],
              "status": 200,
              "status_text": ""
            }
          },
          "base_uri": "https://localhost:8080/",
          "height": 72
        },
        "outputId": "1dde8f1c-e199-4e1c-e5b6-07e5d4b65c2c"
      },
      "source": [
        "#load the data\n",
        "from google.colab import files\n",
        "data_to_load = files.upload()"
      ],
      "execution_count": null,
      "outputs": [
        {
          "output_type": "display_data",
          "data": {
            "text/html": [
              "\n",
              "     <input type=\"file\" id=\"files-71fa627f-751f-49ac-9b8b-f2b6adde95cc\" name=\"files[]\" multiple disabled\n",
              "        style=\"border:none\" />\n",
              "     <output id=\"result-71fa627f-751f-49ac-9b8b-f2b6adde95cc\">\n",
              "      Upload widget is only available when the cell has been executed in the\n",
              "      current browser session. Please rerun this cell to enable.\n",
              "      </output>\n",
              "      <script src=\"/nbextensions/google.colab/files.js\"></script> "
            ],
            "text/plain": [
              "<IPython.core.display.HTML object>"
            ]
          },
          "metadata": {
            "tags": []
          }
        },
        {
          "output_type": "stream",
          "text": [
            "Saving WA_Fn-UseC_-Marketing-Campaign-Eff-UseC_-FastF.csv to WA_Fn-UseC_-Marketing-Campaign-Eff-UseC_-FastF.csv\n"
          ],
          "name": "stdout"
        }
      ]
    },
    {
      "cell_type": "code",
      "metadata": {
        "id": "UBdAXMnUgUXd",
        "colab_type": "code",
        "colab": {}
      },
      "source": [
        "import io\n",
        "# .read_csv() assigns the information from the initial *.csv file to this variable\n",
        "raw_data = pd.read_csv(io.BytesIO(data_to_load['WA_Fn-UseC_-Marketing-Campaign-Eff-UseC_-FastF.csv']))"
      ],
      "execution_count": null,
      "outputs": []
    },
    {
      "cell_type": "code",
      "metadata": {
        "id": "MD3lbiJxgdPS",
        "colab_type": "code",
        "colab": {}
      },
      "source": [
        "df = raw_data.copy()"
      ],
      "execution_count": null,
      "outputs": []
    },
    {
      "cell_type": "code",
      "metadata": {
        "id": "5RiLtPzbg9bA",
        "colab_type": "code",
        "colab": {
          "base_uri": "https://localhost:8080/",
          "height": 204
        },
        "outputId": "910c69f0-d391-4598-ab93-e6256be2d739"
      },
      "source": [
        "df.head()"
      ],
      "execution_count": null,
      "outputs": [
        {
          "output_type": "execute_result",
          "data": {
            "text/html": [
              "<div>\n",
              "<style scoped>\n",
              "    .dataframe tbody tr th:only-of-type {\n",
              "        vertical-align: middle;\n",
              "    }\n",
              "\n",
              "    .dataframe tbody tr th {\n",
              "        vertical-align: top;\n",
              "    }\n",
              "\n",
              "    .dataframe thead th {\n",
              "        text-align: right;\n",
              "    }\n",
              "</style>\n",
              "<table border=\"1\" class=\"dataframe\">\n",
              "  <thead>\n",
              "    <tr style=\"text-align: right;\">\n",
              "      <th></th>\n",
              "      <th>MarketID</th>\n",
              "      <th>MarketSize</th>\n",
              "      <th>LocationID</th>\n",
              "      <th>AgeOfStore</th>\n",
              "      <th>Promotion</th>\n",
              "      <th>week</th>\n",
              "      <th>SalesInThousands</th>\n",
              "    </tr>\n",
              "  </thead>\n",
              "  <tbody>\n",
              "    <tr>\n",
              "      <th>0</th>\n",
              "      <td>1</td>\n",
              "      <td>Medium</td>\n",
              "      <td>1</td>\n",
              "      <td>4</td>\n",
              "      <td>3</td>\n",
              "      <td>1</td>\n",
              "      <td>33.73</td>\n",
              "    </tr>\n",
              "    <tr>\n",
              "      <th>1</th>\n",
              "      <td>1</td>\n",
              "      <td>Medium</td>\n",
              "      <td>1</td>\n",
              "      <td>4</td>\n",
              "      <td>3</td>\n",
              "      <td>2</td>\n",
              "      <td>35.67</td>\n",
              "    </tr>\n",
              "    <tr>\n",
              "      <th>2</th>\n",
              "      <td>1</td>\n",
              "      <td>Medium</td>\n",
              "      <td>1</td>\n",
              "      <td>4</td>\n",
              "      <td>3</td>\n",
              "      <td>3</td>\n",
              "      <td>29.03</td>\n",
              "    </tr>\n",
              "    <tr>\n",
              "      <th>3</th>\n",
              "      <td>1</td>\n",
              "      <td>Medium</td>\n",
              "      <td>1</td>\n",
              "      <td>4</td>\n",
              "      <td>3</td>\n",
              "      <td>4</td>\n",
              "      <td>39.25</td>\n",
              "    </tr>\n",
              "    <tr>\n",
              "      <th>4</th>\n",
              "      <td>1</td>\n",
              "      <td>Medium</td>\n",
              "      <td>2</td>\n",
              "      <td>5</td>\n",
              "      <td>2</td>\n",
              "      <td>1</td>\n",
              "      <td>27.81</td>\n",
              "    </tr>\n",
              "  </tbody>\n",
              "</table>\n",
              "</div>"
            ],
            "text/plain": [
              "   MarketID MarketSize  LocationID  ...  Promotion  week  SalesInThousands\n",
              "0         1     Medium           1  ...          3     1             33.73\n",
              "1         1     Medium           1  ...          3     2             35.67\n",
              "2         1     Medium           1  ...          3     3             29.03\n",
              "3         1     Medium           1  ...          3     4             39.25\n",
              "4         1     Medium           2  ...          2     1             27.81\n",
              "\n",
              "[5 rows x 7 columns]"
            ]
          },
          "metadata": {
            "tags": []
          },
          "execution_count": 7
        }
      ]
    },
    {
      "cell_type": "code",
      "metadata": {
        "id": "0_LwASleZNda",
        "colab_type": "code",
        "colab": {
          "base_uri": "https://localhost:8080/",
          "height": 306
        },
        "outputId": "bd274fc0-f4e8-4a4c-f3f5-c0f0a7dc99f7"
      },
      "source": [
        "print (\"Rows     : \" , df.shape[0])\n",
        "print (\"Columns  : \" , df.shape[1])\n",
        "print (\"\\nFeatures : \\n\", df.columns.tolist())\n",
        "print (\"\\nMissing values :  \", df.isnull().sum().values.sum())\n",
        "print (\"\\nUnique values :  \\n\", df.nunique())"
      ],
      "execution_count": null,
      "outputs": [
        {
          "output_type": "stream",
          "text": [
            "Rows     :  548\n",
            "Columns  :  7\n",
            "\n",
            "Features : \n",
            " ['MarketID', 'MarketSize', 'LocationID', 'AgeOfStore', 'Promotion', 'week', 'SalesInThousands']\n",
            "\n",
            "Missing values :   0\n",
            "\n",
            "Unique values :  \n",
            " MarketID             10\n",
            "MarketSize            3\n",
            "LocationID          137\n",
            "AgeOfStore           25\n",
            "Promotion             3\n",
            "week                  4\n",
            "SalesInThousands    517\n",
            "dtype: int64\n"
          ],
          "name": "stdout"
        }
      ]
    },
    {
      "cell_type": "code",
      "metadata": {
        "id": "OqwOkHXxZXQ6",
        "colab_type": "code",
        "colab": {
          "base_uri": "https://localhost:8080/",
          "height": 297
        },
        "outputId": "606548dd-7b98-4746-ddfb-dd38b84762e3"
      },
      "source": [
        "df.describe()"
      ],
      "execution_count": null,
      "outputs": [
        {
          "output_type": "execute_result",
          "data": {
            "text/html": [
              "<div>\n",
              "<style scoped>\n",
              "    .dataframe tbody tr th:only-of-type {\n",
              "        vertical-align: middle;\n",
              "    }\n",
              "\n",
              "    .dataframe tbody tr th {\n",
              "        vertical-align: top;\n",
              "    }\n",
              "\n",
              "    .dataframe thead th {\n",
              "        text-align: right;\n",
              "    }\n",
              "</style>\n",
              "<table border=\"1\" class=\"dataframe\">\n",
              "  <thead>\n",
              "    <tr style=\"text-align: right;\">\n",
              "      <th></th>\n",
              "      <th>MarketID</th>\n",
              "      <th>LocationID</th>\n",
              "      <th>AgeOfStore</th>\n",
              "      <th>Promotion</th>\n",
              "      <th>week</th>\n",
              "      <th>SalesInThousands</th>\n",
              "    </tr>\n",
              "  </thead>\n",
              "  <tbody>\n",
              "    <tr>\n",
              "      <th>count</th>\n",
              "      <td>548.000000</td>\n",
              "      <td>548.000000</td>\n",
              "      <td>548.000000</td>\n",
              "      <td>548.000000</td>\n",
              "      <td>548.000000</td>\n",
              "      <td>548.000000</td>\n",
              "    </tr>\n",
              "    <tr>\n",
              "      <th>mean</th>\n",
              "      <td>5.715328</td>\n",
              "      <td>479.656934</td>\n",
              "      <td>8.503650</td>\n",
              "      <td>2.029197</td>\n",
              "      <td>2.500000</td>\n",
              "      <td>53.466204</td>\n",
              "    </tr>\n",
              "    <tr>\n",
              "      <th>std</th>\n",
              "      <td>2.877001</td>\n",
              "      <td>287.973679</td>\n",
              "      <td>6.638345</td>\n",
              "      <td>0.810729</td>\n",
              "      <td>1.119055</td>\n",
              "      <td>16.755216</td>\n",
              "    </tr>\n",
              "    <tr>\n",
              "      <th>min</th>\n",
              "      <td>1.000000</td>\n",
              "      <td>1.000000</td>\n",
              "      <td>1.000000</td>\n",
              "      <td>1.000000</td>\n",
              "      <td>1.000000</td>\n",
              "      <td>17.340000</td>\n",
              "    </tr>\n",
              "    <tr>\n",
              "      <th>25%</th>\n",
              "      <td>3.000000</td>\n",
              "      <td>216.000000</td>\n",
              "      <td>4.000000</td>\n",
              "      <td>1.000000</td>\n",
              "      <td>1.750000</td>\n",
              "      <td>42.545000</td>\n",
              "    </tr>\n",
              "    <tr>\n",
              "      <th>50%</th>\n",
              "      <td>6.000000</td>\n",
              "      <td>504.000000</td>\n",
              "      <td>7.000000</td>\n",
              "      <td>2.000000</td>\n",
              "      <td>2.500000</td>\n",
              "      <td>50.200000</td>\n",
              "    </tr>\n",
              "    <tr>\n",
              "      <th>75%</th>\n",
              "      <td>8.000000</td>\n",
              "      <td>708.000000</td>\n",
              "      <td>12.000000</td>\n",
              "      <td>3.000000</td>\n",
              "      <td>3.250000</td>\n",
              "      <td>60.477500</td>\n",
              "    </tr>\n",
              "    <tr>\n",
              "      <th>max</th>\n",
              "      <td>10.000000</td>\n",
              "      <td>920.000000</td>\n",
              "      <td>28.000000</td>\n",
              "      <td>3.000000</td>\n",
              "      <td>4.000000</td>\n",
              "      <td>99.650000</td>\n",
              "    </tr>\n",
              "  </tbody>\n",
              "</table>\n",
              "</div>"
            ],
            "text/plain": [
              "         MarketID  LocationID  ...        week  SalesInThousands\n",
              "count  548.000000  548.000000  ...  548.000000        548.000000\n",
              "mean     5.715328  479.656934  ...    2.500000         53.466204\n",
              "std      2.877001  287.973679  ...    1.119055         16.755216\n",
              "min      1.000000    1.000000  ...    1.000000         17.340000\n",
              "25%      3.000000  216.000000  ...    1.750000         42.545000\n",
              "50%      6.000000  504.000000  ...    2.500000         50.200000\n",
              "75%      8.000000  708.000000  ...    3.250000         60.477500\n",
              "max     10.000000  920.000000  ...    4.000000         99.650000\n",
              "\n",
              "[8 rows x 6 columns]"
            ]
          },
          "metadata": {
            "tags": []
          },
          "execution_count": 8
        }
      ]
    },
    {
      "cell_type": "markdown",
      "metadata": {
        "id": "Brl1zMkAZcU3",
        "colab_type": "text"
      },
      "source": [
        "#### Exploratory Data Analysis and Visualizations"
      ]
    },
    {
      "cell_type": "markdown",
      "metadata": {
        "id": "4fkqIMd2hrxn",
        "colab_type": "text"
      },
      "source": [
        "Sales destribution across the 3 different promotions."
      ]
    },
    {
      "cell_type": "code",
      "metadata": {
        "id": "2g92Kp4PZeWE",
        "colab_type": "code",
        "colab": {
          "base_uri": "https://localhost:8080/",
          "height": 374
        },
        "outputId": "6135696f-5d26-415a-f5d2-3f51833fe0e4"
      },
      "source": [
        "# plotting sales and marketing data\n",
        "\n",
        "# Using ggplot's style\n",
        "ax = df.groupby('Promotion').sum()['SalesInThousands'].plot.pie(figsize=(6,6),\n",
        "                                                                autopct='%1.0f%%',\n",
        "                                                                shadow=True,\n",
        "                                                                explode = (0, 0.1, 0))\n",
        "ax.set_ylabel('')\n",
        "ax.set_title('Sales Distribution Across the 3 Different Promotions')\n",
        "\n",
        "plt.show()"
      ],
      "execution_count": null,
      "outputs": [
        {
          "output_type": "display_data",
          "data": {
            "image/png": "[encoded data removed]",
            "text/plain": [
              "<Figure size 432x432 with 1 Axes>"
            ]
          },
          "metadata": {
            "tags": []
          }
        }
      ]
    },
    {
      "cell_type": "markdown",
      "metadata": {
        "id": "nd3djplNje5g",
        "colab_type": "text"
      },
      "source": [
        "As we see from this analysis, there is no big difference in results. Let's conduct more analysis."
      ]
    },
    {
      "cell_type": "markdown",
      "metadata": {
        "id": "anMd6JmYjQqS",
        "colab_type": "text"
      },
      "source": [
        "Now let's view the promotions for each market size"
      ]
    },
    {
      "cell_type": "code",
      "metadata": {
        "id": "71BSwxlgZjKw",
        "colab_type": "code",
        "colab": {
          "base_uri": "https://localhost:8080/",
          "height": 204
        },
        "outputId": "9c1c34c0-1a23-4089-c2c0-d23a927ec318"
      },
      "source": [
        "df.groupby(['Promotion', 'MarketSize']).count()['MarketID']"
      ],
      "execution_count": null,
      "outputs": [
        {
          "output_type": "execute_result",
          "data": {
            "text/plain": [
              "Promotion  MarketSize\n",
              "1          Large          56\n",
              "           Medium         96\n",
              "           Small          20\n",
              "2          Large          64\n",
              "           Medium        108\n",
              "           Small          16\n",
              "3          Large          48\n",
              "           Medium        116\n",
              "           Small          24\n",
              "Name: MarketID, dtype: int64"
            ]
          },
          "metadata": {
            "tags": []
          },
          "execution_count": 15
        }
      ]
    },
    {
      "cell_type": "code",
      "metadata": {
        "id": "lZl91a0gZnDi",
        "colab_type": "code",
        "colab": {
          "base_uri": "https://localhost:8080/",
          "height": 173
        },
        "outputId": "966365d1-c742-4de9-e276-553a7e044e1d"
      },
      "source": [
        "# Using unstack\n",
        "df.groupby(['Promotion', 'MarketSize']).count()['MarketID'].unstack('MarketSize')"
      ],
      "execution_count": null,
      "outputs": [
        {
          "output_type": "execute_result",
          "data": {
            "text/html": [
              "<div>\n",
              "<style scoped>\n",
              "    .dataframe tbody tr th:only-of-type {\n",
              "        vertical-align: middle;\n",
              "    }\n",
              "\n",
              "    .dataframe tbody tr th {\n",
              "        vertical-align: top;\n",
              "    }\n",
              "\n",
              "    .dataframe thead th {\n",
              "        text-align: right;\n",
              "    }\n",
              "</style>\n",
              "<table border=\"1\" class=\"dataframe\">\n",
              "  <thead>\n",
              "    <tr style=\"text-align: right;\">\n",
              "      <th>MarketSize</th>\n",
              "      <th>Large</th>\n",
              "      <th>Medium</th>\n",
              "      <th>Small</th>\n",
              "    </tr>\n",
              "    <tr>\n",
              "      <th>Promotion</th>\n",
              "      <th></th>\n",
              "      <th></th>\n",
              "      <th></th>\n",
              "    </tr>\n",
              "  </thead>\n",
              "  <tbody>\n",
              "    <tr>\n",
              "      <th>1</th>\n",
              "      <td>56</td>\n",
              "      <td>96</td>\n",
              "      <td>20</td>\n",
              "    </tr>\n",
              "    <tr>\n",
              "      <th>2</th>\n",
              "      <td>64</td>\n",
              "      <td>108</td>\n",
              "      <td>16</td>\n",
              "    </tr>\n",
              "    <tr>\n",
              "      <th>3</th>\n",
              "      <td>48</td>\n",
              "      <td>116</td>\n",
              "      <td>24</td>\n",
              "    </tr>\n",
              "  </tbody>\n",
              "</table>\n",
              "</div>"
            ],
            "text/plain": [
              "MarketSize  Large  Medium  Small\n",
              "Promotion                       \n",
              "1              56      96     20\n",
              "2              64     108     16\n",
              "3              48     116     24"
            ]
          },
          "metadata": {
            "tags": []
          },
          "execution_count": 16
        }
      ]
    },
    {
      "cell_type": "code",
      "metadata": {
        "id": "erEKQvwZZral",
        "colab_type": "code",
        "colab": {
          "base_uri": "https://localhost:8080/",
          "height": 622
        },
        "outputId": "f16450e6-51c6-45af-9d9f-e876de18cf0c"
      },
      "source": [
        "# Put this into a plot\n",
        "ax = df.groupby(['Promotion', 'MarketSize']).count()['MarketID'].unstack('MarketSize').plot(\n",
        "    kind='bar',\n",
        "    figsize=(12,10),\n",
        "    grid=True)\n",
        "\n",
        "ax.set_ylabel('count')\n",
        "ax.set_title('Breakdowns of Market Sizes Across Different Promotions')\n",
        "\n",
        "plt.show()"
      ],
      "execution_count": null,
      "outputs": [
        {
          "output_type": "display_data",
          "data": {
            "image/png": "[encoded data removed]",
            "text/plain": [
              "<Figure size 864x720 with 1 Axes>"
            ]
          },
          "metadata": {
            "tags": []
          }
        }
      ]
    },
    {
      "cell_type": "code",
      "metadata": {
        "id": "0xR24jjPZvW7",
        "colab_type": "code",
        "colab": {
          "base_uri": "https://localhost:8080/",
          "height": 622
        },
        "outputId": "ccb2460c-289f-4a21-c258-63e7a58448fa"
      },
      "source": [
        "# Put this into a different plot\n",
        "ax = df.groupby(['Promotion', 'MarketSize']).count()['MarketID'].unstack('MarketSize').plot(\n",
        "    kind='bar',\n",
        "    figsize=(12,10),\n",
        "    grid=True,\n",
        "    stacked=True)\n",
        "\n",
        "ax.set_ylabel('count')\n",
        "ax.set_title('breakdowns of market sizes across different promotions')\n",
        "\n",
        "plt.show()"
      ],
      "execution_count": null,
      "outputs": [
        {
          "output_type": "display_data",
          "data": {
            "image/png": "[encoded data removed]",
            "text/plain": [
              "<Figure size 864x720 with 1 Axes>"
            ]
          },
          "metadata": {
            "tags": []
          }
        }
      ]
    },
    {
      "cell_type": "code",
      "metadata": {
        "id": "F11i_rExZ6MB",
        "colab_type": "code",
        "colab": {
          "base_uri": "https://localhost:8080/",
          "height": 465
        },
        "outputId": "f1f3f0b5-b753-4ea6-f92c-31a7e3ca7aa4"
      },
      "source": [
        "ax = df.groupby('AgeOfStore').count()['MarketID'].plot(\n",
        "    kind='bar', \n",
        "    figsize=(12,7),\n",
        "    grid=True)\n",
        "\n",
        "ax.set_xlabel('age')\n",
        "ax.set_ylabel('count')\n",
        "ax.set_title('Overall Distributions Store Ages')\n",
        "\n",
        "plt.show()"
      ],
      "execution_count": null,
      "outputs": [
        {
          "output_type": "display_data",
          "data": {
            "image/png": "[encoded data removed]",
            "text/plain": [
              "<Figure size 864x504 with 1 Axes>"
            ]
          },
          "metadata": {
            "tags": []
          }
        }
      ]
    },
    {
      "cell_type": "markdown",
      "metadata": {
        "id": "8VxZgC9Wk8cG",
        "colab_type": "text"
      },
      "source": [
        "As we see there are larg amount of 1-year-old stores.\n",
        "\n",
        "Now let's Group by Age of Store and Promotion to get counts."
      ]
    },
    {
      "cell_type": "code",
      "metadata": {
        "id": "9K7HkdkLZ_7c",
        "colab_type": "code",
        "colab": {
          "base_uri": "https://localhost:8080/",
          "height": 986
        },
        "outputId": "8c13fb89-6c44-4082-d1a6-03e34f765004"
      },
      "source": [
        "df.groupby(['AgeOfStore', 'Promotion']).count()['MarketID']"
      ],
      "execution_count": null,
      "outputs": [
        {
          "output_type": "execute_result",
          "data": {
            "text/plain": [
              "AgeOfStore  Promotion\n",
              "1           1            24\n",
              "            2            36\n",
              "            3            20\n",
              "2           1             8\n",
              "            2             8\n",
              "            3             4\n",
              "3           1            16\n",
              "            2            12\n",
              "            3             4\n",
              "4           1            16\n",
              "            2            12\n",
              "            3            16\n",
              "5           1             8\n",
              "            2            12\n",
              "            3            24\n",
              "6           1            20\n",
              "            2             4\n",
              "            3            12\n",
              "7           1             4\n",
              "            2            24\n",
              "            3            12\n",
              "8           1            12\n",
              "            2             8\n",
              "            3            20\n",
              "9           1             8\n",
              "            2            12\n",
              "            3             8\n",
              "10          2            16\n",
              "            3             8\n",
              "11          1             4\n",
              "            3            12\n",
              "12          1            12\n",
              "            2             4\n",
              "            3             8\n",
              "13          1            12\n",
              "            2             8\n",
              "14          2             8\n",
              "            3             4\n",
              "15          1             4\n",
              "            2             4\n",
              "17          3             4\n",
              "18          1             8\n",
              "19          1             4\n",
              "            2             8\n",
              "            3             8\n",
              "20          3             4\n",
              "22          1             4\n",
              "            3             8\n",
              "23          2             4\n",
              "            3             4\n",
              "24          1             4\n",
              "            3             8\n",
              "25          2             4\n",
              "27          1             4\n",
              "28          2             4\n",
              "Name: MarketID, dtype: int64"
            ]
          },
          "metadata": {
            "tags": []
          },
          "execution_count": 21
        }
      ]
    },
    {
      "cell_type": "code",
      "metadata": {
        "id": "vRyDebjaaDQO",
        "colab_type": "code",
        "colab": {
          "base_uri": "https://localhost:8080/",
          "height": 1000
        },
        "outputId": "80d13ed0-372c-468d-9ad6-a76c83cf1a29"
      },
      "source": [
        "# Visaulize this summary\n",
        "ax = df.groupby(['AgeOfStore', 'Promotion']).count()['MarketID'].unstack('Promotion').iloc[::-1].plot(\n",
        "    kind='barh', \n",
        "    figsize=(14,18),\n",
        "    grid=True)\n",
        "\n",
        "ax.set_ylabel('age')\n",
        "ax.set_xlabel('count')\n",
        "ax.set_title('Overall Distributions of Age of Store')\n",
        "\n",
        "plt.show()"
      ],
      "execution_count": null,
      "outputs": [
        {
          "output_type": "display_data",
          "data": {
            "image/png": "[encoded data removed]",
            "text/plain": [
              "<Figure size 1008x1296 with 1 Axes>"
            ]
          },
          "metadata": {
            "tags": []
          }
        }
      ]
    },
    {
      "cell_type": "code",
      "metadata": {
        "id": "-t0up5SlaGlb",
        "colab_type": "code",
        "colab": {
          "base_uri": "https://localhost:8080/",
          "height": 173
        },
        "outputId": "449a5b9e-111f-4617-8115-a932347df53e"
      },
      "source": [
        "df.groupby('Promotion').describe()['AgeOfStore']"
      ],
      "execution_count": null,
      "outputs": [
        {
          "output_type": "execute_result",
          "data": {
            "text/html": [
              "<div>\n",
              "<style scoped>\n",
              "    .dataframe tbody tr th:only-of-type {\n",
              "        vertical-align: middle;\n",
              "    }\n",
              "\n",
              "    .dataframe tbody tr th {\n",
              "        vertical-align: top;\n",
              "    }\n",
              "\n",
              "    .dataframe thead th {\n",
              "        text-align: right;\n",
              "    }\n",
              "</style>\n",
              "<table border=\"1\" class=\"dataframe\">\n",
              "  <thead>\n",
              "    <tr style=\"text-align: right;\">\n",
              "      <th></th>\n",
              "      <th>count</th>\n",
              "      <th>mean</th>\n",
              "      <th>std</th>\n",
              "      <th>min</th>\n",
              "      <th>25%</th>\n",
              "      <th>50%</th>\n",
              "      <th>75%</th>\n",
              "      <th>max</th>\n",
              "    </tr>\n",
              "    <tr>\n",
              "      <th>Promotion</th>\n",
              "      <th></th>\n",
              "      <th></th>\n",
              "      <th></th>\n",
              "      <th></th>\n",
              "      <th></th>\n",
              "      <th></th>\n",
              "      <th></th>\n",
              "      <th></th>\n",
              "    </tr>\n",
              "  </thead>\n",
              "  <tbody>\n",
              "    <tr>\n",
              "      <th>1</th>\n",
              "      <td>172.0</td>\n",
              "      <td>8.279070</td>\n",
              "      <td>6.636160</td>\n",
              "      <td>1.0</td>\n",
              "      <td>3.0</td>\n",
              "      <td>6.0</td>\n",
              "      <td>12.0</td>\n",
              "      <td>27.0</td>\n",
              "    </tr>\n",
              "    <tr>\n",
              "      <th>2</th>\n",
              "      <td>188.0</td>\n",
              "      <td>7.978723</td>\n",
              "      <td>6.597648</td>\n",
              "      <td>1.0</td>\n",
              "      <td>3.0</td>\n",
              "      <td>7.0</td>\n",
              "      <td>10.0</td>\n",
              "      <td>28.0</td>\n",
              "    </tr>\n",
              "    <tr>\n",
              "      <th>3</th>\n",
              "      <td>188.0</td>\n",
              "      <td>9.234043</td>\n",
              "      <td>6.651646</td>\n",
              "      <td>1.0</td>\n",
              "      <td>5.0</td>\n",
              "      <td>8.0</td>\n",
              "      <td>12.0</td>\n",
              "      <td>24.0</td>\n",
              "    </tr>\n",
              "  </tbody>\n",
              "</table>\n",
              "</div>"
            ],
            "text/plain": [
              "           count      mean       std  min  25%  50%   75%   max\n",
              "Promotion                                                      \n",
              "1          172.0  8.279070  6.636160  1.0  3.0  6.0  12.0  27.0\n",
              "2          188.0  7.978723  6.597648  1.0  3.0  7.0  10.0  28.0\n",
              "3          188.0  9.234043  6.651646  1.0  5.0  8.0  12.0  24.0"
            ]
          },
          "metadata": {
            "tags": []
          },
          "execution_count": 24
        }
      ]
    },
    {
      "cell_type": "markdown",
      "metadata": {
        "id": "vKq5tBMeaMps",
        "colab_type": "text"
      },
      "source": [
        "This table makes it easy to understand the overall store age distribution from our summary stats.\n",
        "\n",
        "All test groups have similar age profiles and the average store ages  is ~8 to 9 years old for theese 3 groups.\n",
        "\n",
        "The majority of the stores are 10–12 years old or even younger.\n",
        "\n",
        "We can see that the store profiles are similar to each other. \n",
        "\n",
        "This indicates that our sample groups are well controlled and the A/B testing results will be meaningful and trustworthy."
      ]
    },
    {
      "cell_type": "markdown",
      "metadata": {
        "id": "n7dFWVGiaSNW",
        "colab_type": "text"
      },
      "source": [
        "#### Performing A/B Testing"
      ]
    },
    {
      "cell_type": "code",
      "metadata": {
        "id": "y08eh_pZaJvH",
        "colab_type": "code",
        "colab": {
          "base_uri": "https://localhost:8080/",
          "height": 442
        },
        "outputId": "a2f6bda4-d6fc-4dc5-b913-d95dc8d4923b"
      },
      "source": [
        "means = df.groupby('Promotion').mean()['SalesInThousands']\n",
        "stds = df.groupby('Promotion').std()['SalesInThousands']\n",
        "ns = df.groupby('Promotion').count()['SalesInThousands']\n",
        "print(\"\\nMean\\n\", means)\n",
        "print(\"\\n---------------\\n\")\n",
        "print(\"Standard Deviation\\n\", stds)\n",
        "print(\"\\n----------------\\n\")\n",
        "print(\"Number of Samples\\n\", ns)"
      ],
      "execution_count": null,
      "outputs": [
        {
          "output_type": "stream",
          "text": [
            "\n",
            "Mean\n",
            " Promotion\n",
            "1    58.099012\n",
            "2    47.329415\n",
            "3    55.364468\n",
            "Name: SalesInThousands, dtype: float64\n",
            "\n",
            "---------------\n",
            "\n",
            "Standard Deviation\n",
            " Promotion\n",
            "1    16.553782\n",
            "2    15.108955\n",
            "3    16.766231\n",
            "Name: SalesInThousands, dtype: float64\n",
            "\n",
            "----------------\n",
            "\n",
            "Number of Samples\n",
            " Promotion\n",
            "1    172\n",
            "2    188\n",
            "3    188\n",
            "Name: SalesInThousands, dtype: int64\n"
          ],
          "name": "stdout"
        }
      ]
    },
    {
      "cell_type": "markdown",
      "metadata": {
        "id": "18lsLJyhaccD",
        "colab_type": "text"
      },
      "source": [
        "**T-Value**\n",
        "\n",
        "The t-value measures the degree of difference relative to the variation in our data groups. Large t-values indicate a higher degree of difference between the grups. \n",
        "\n",
        "**P-Value**\n",
        "\n",
        "P-value measures the probability that the results would occur by random chance. Therefore the smaller the p-value is, the more statistically significant difference there will be between the two groups"
      ]
    },
    {
      "cell_type": "markdown",
      "metadata": {
        "id": "HLkk60VMahJS",
        "colab_type": "text"
      },
      "source": [
        "#### **Comparing Promotion 1 vs Promotion 2 in an A/B Test**"
      ]
    },
    {
      "cell_type": "code",
      "metadata": {
        "id": "EKvZWZ49aXDi",
        "colab_type": "code",
        "colab": {
          "base_uri": "https://localhost:8080/",
          "height": 51
        },
        "outputId": "175ceb54-1e18-43c0-da29-da8c86caceec"
      },
      "source": [
        "# Computing the t and p values using scipy \n",
        "from scipy import stats\n",
        "\n",
        "t, p = stats.ttest_ind(df.loc[df['Promotion'] == 1, 'SalesInThousands'].values,\n",
        "                       df.loc[df['Promotion'] == 2, 'SalesInThousands'].values, \n",
        "                       equal_var=False)\n",
        "print(\"t-value = \" +str(t))\n",
        "print(\"p-value = \" +str(p))"
      ],
      "execution_count": null,
      "outputs": [
        {
          "output_type": "stream",
          "text": [
            "t-value = 6.42752867090748\n",
            "p-value = 4.2903687179871785e-10\n"
          ],
          "name": "stdout"
        }
      ]
    },
    {
      "cell_type": "markdown",
      "metadata": {
        "id": "e6pI7UzXap7c",
        "colab_type": "text"
      },
      "source": [
        "*Analysis of P and t-values*\n",
        "\n",
        "Null Hypothesis: There is no difference bedween 2 groups.\n",
        "\n",
        "Our **P-Value is close to 0** which suggests that there is good evidence to **REJECT the Null Hypothesis**. Meaning the there is a statistical difference between the two groups. Our threshold rejectings the Null is usually less than 0.05.\n",
        "\n",
        "Our **t-test** shows that the marketing performances for these two groups are significantly different and that promotion group 1 outperforms promotion group 2. \n"
      ]
    },
    {
      "cell_type": "markdown",
      "metadata": {
        "id": "AKyA85Qwaubx",
        "colab_type": "text"
      },
      "source": [
        "#### **Comparing Promotion 1 vs Promotion 3 in an A/B Test**\n",
        "\n",
        "However, if we run a t-test between the promotion group 1 and promotion group 3, we see different results:"
      ]
    },
    {
      "cell_type": "code",
      "metadata": {
        "id": "fym8iPg7am0r",
        "colab_type": "code",
        "colab": {
          "base_uri": "https://localhost:8080/",
          "height": 51
        },
        "outputId": "611c0b93-a4ed-4843-8e07-8a96a58b21af"
      },
      "source": [
        "t, p = stats.ttest_ind(\n",
        "    df.loc[df['Promotion'] == 1, 'SalesInThousands'].values, \n",
        "    df.loc[df['Promotion'] == 3, 'SalesInThousands'].values, \n",
        "    equal_var=False)\n",
        "\n",
        "print(\"t-value = \" +str(t))\n",
        "print(\"p-value = \" +str(p))"
      ],
      "execution_count": null,
      "outputs": [
        {
          "output_type": "stream",
          "text": [
            "t-value = 1.5560224307758634\n",
            "p-value = 0.12059147742229478\n"
          ],
          "name": "stdout"
        }
      ]
    },
    {
      "cell_type": "markdown",
      "metadata": {
        "id": "DbZH1TLwxXVa",
        "colab_type": "text"
      },
      "source": [
        "t-value is smaller, which means, compared data is lot more similat then in previouse case.\n",
        "\n",
        "p-valu is higher, then our treshhold 0.05, \n",
        "\n",
        "This means that we can't conclude anythign from this result to reject our Null Hypothesis\n",
        "\n",
        "in this case we have to accept our Null hypothesis, there is no statistically significent diferent between this groups."
      ]
    },
    {
      "cell_type": "markdown",
      "metadata": {
        "id": "j96CIgZga-YQ",
        "colab_type": "text"
      },
      "source": [
        "*Analysis of P and t-values*\n",
        "\n",
        "We note that the average sales from promotion group 1 (58.1) is  higher than those from promotion group 2 (55.36). \n",
        "\n",
        "But, running a t-test between these two groups, gives us a t-value of 1.556 and a p-value of 0.121. \n",
        "\n",
        "The computed **p-value is a lot higher than 0.05**, past the threshold for statistical significance."
      ]
    }
  ]
}